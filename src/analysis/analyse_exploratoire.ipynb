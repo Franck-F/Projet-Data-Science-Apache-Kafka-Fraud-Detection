{
 "cells": [
  {
   "cell_type": "code",
   "execution_count": null,
   "id": "1a066203",
   "metadata": {},
   "outputs": [],
   "source": [
    "\"\"\"Analyse exploratoire des données de transactions.\"\"\""
   ]
  },
  {
   "cell_type": "code",
   "execution_count": null,
   "id": "9d76cda3",
   "metadata": {
    "lines_to_next_cell": 1
   },
   "outputs": [],
   "source": [
    "import pandas as pd\n",
    "import plotly.express as px\n",
    "import plotly.graph_objects as go\n",
    "from plotly.subplots import make_subplots\n",
    "import numpy as np"
   ]
  },
  {
   "cell_type": "code",
   "execution_count": null,
   "id": "87bdb2b5",
   "metadata": {
    "lines_to_next_cell": 1
   },
   "outputs": [],
   "source": [
    "def charger_donnees(chemin_fichier):\n",
    "    \"\"\"Charge les données depuis un fichier CSV.\"\"\"\n",
    "    try:\n",
    "        df = pd.read_csv(chemin_fichier)\n",
    "        print(f\"Données chargées depuis {chemin_fichier}: {len(df)} entrées\")\n",
    "        return df\n",
    "    except Exception as e:\n",
    "        print(f\"Erreur lors du chargement des données: {str(e)}\")\n",
    "        return None"
   ]
  },
  {
   "cell_type": "code",
   "execution_count": null,
   "id": "c64ea5eb",
   "metadata": {
    "lines_to_next_cell": 1
   },
   "outputs": [],
   "source": [
    "def afficher_statistiques_descriptives(df):\n",
    "    \"\"\"Affiche les statistiques descriptives des données.\"\"\"\n",
    "    print(\"\\nStatistiques descriptives:\")\n",
    "    print(df.describe())\n",
    "    \n",
    "    print(\"\\nInformations sur les types de données:\")\n",
    "    print(df.info())\n",
    "    \n",
    "    print(\"\\nValeurs manquantes:\")\n",
    "    print(df.isnull().sum())"
   ]
  },
  {
   "cell_type": "code",
   "execution_count": null,
   "id": "c3536413",
   "metadata": {
    "lines_to_next_cell": 1
   },
   "outputs": [],
   "source": [
    "def visualiser_distribution_transactions(df):\n",
    "    \"\"\"Visualise la distribution des transactions normales vs frauduleuses.\"\"\"\n",
    "    fig = px.pie(\n",
    "        df,\n",
    "        names=\"is_fraud\",\n",
    "        title=\"Distribution des transactions frauduleuses vs normales\"\n",
    "    )\n",
    "    fig.show()"
   ]
  },
  {
   "cell_type": "code",
   "execution_count": null,
   "id": "d3edfd2f",
   "metadata": {
    "lines_to_next_cell": 1
   },
   "outputs": [],
   "source": [
    "def visualiser_distribution_montants(df):\n",
    "    \"\"\"Visualise la distribution des montants par type de transaction.\"\"\"\n",
    "    fig = px.box(\n",
    "        df,\n",
    "        x=\"is_fraud\",\n",
    "        y=\"montant\",\n",
    "        title=\"Distribution des montants par type de transaction\"\n",
    "    )\n",
    "    fig.show()"
   ]
  },
  {
   "cell_type": "code",
   "execution_count": null,
   "id": "ff7b05c7",
   "metadata": {
    "lines_to_next_cell": 1
   },
   "outputs": [],
   "source": [
    "def analyser_patterns_temporels(df):\n",
    "    \"\"\"Analyse les patterns temporels des transactions.\"\"\"\n",
    "    # Convertir la colonne heure_transaction en datetime si nécessaire\n",
    "    if not pd.api.types.is_datetime64_any_dtype(df[\"heure_transaction\"]):\n",
    "        df[\"heure_transaction\"] = pd.to_datetime(df[\"heure_transaction\"])\n",
    "        \n",
    "    # Extraire l'heure\n",
    "    df[\"hour\"] = df[\"heure_transaction\"].dt.hour\n",
    "    \n",
    "    fig = px.histogram(\n",
    "        df,\n",
    "        x=\"hour\",\n",
    "        color=\"is_fraud\",\n",
    "        title=\"Distribution horaire des transactions\"\n",
    "    )\n",
    "    fig.show()"
   ]
  },
  {
   "cell_type": "code",
   "execution_count": null,
   "id": "41f004b6",
   "metadata": {
    "lines_to_next_cell": 1
   },
   "outputs": [],
   "source": [
    "def creer_matrice_correlation(df):\n",
    "    \"\"\"Génère une matrice de corrélation pour les caractéristiques numériques.\"\"\"\n",
    "    numeric_cols = df.select_dtypes(include=[\"float64\", \"int64\"]).columns\n",
    "    corr_matrix = df[numeric_cols].corr()\n",
    "    \n",
    "    fig = px.imshow(\n",
    "        corr_matrix,\n",
    "        title=\"Matrice de corrélation des caractéristiques\"\n",
    "    )\n",
    "    fig.show()"
   ]
  },
  {
   "cell_type": "code",
   "execution_count": null,
   "id": "ba236784",
   "metadata": {
    "lines_to_next_cell": 1
   },
   "outputs": [],
   "source": [
    "def analyser_caracteristiques_importantes(df):\n",
    "    \"\"\"Analyse les caractéristiques les plus importantes pour la détection.\"\"\"\n",
    "    # Analyse par type de transaction\n",
    "    print(\"\\nAnalyse par type de transaction:\")\n",
    "    print(df.groupby(\"type_transaction\")[\"is_fraud\"].mean().sort_values(ascending=False))\n",
    "    \n",
    "    # Analyse par localisation\n",
    "    print(\"\\nAnalyse par localisation:\")\n",
    "    print(df.groupby(\"localisation\")[\"is_fraud\"].mean().sort_values(ascending=False))"
   ]
  },
  {
   "cell_type": "code",
   "execution_count": null,
   "id": "8a138771",
   "metadata": {
    "lines_to_next_cell": 1
   },
   "outputs": [],
   "source": [
    "def sauvegarder_visualisations(df, dossier_sortie=\"rapports\"):\n",
    "    \"\"\"Sauvegarde les visualisations dans des fichiers HTML.\"\"\"\n",
    "    import os\n",
    "    if not os.path.exists(dossier_sortie):\n",
    "        os.makedirs(dossier_sortie)\n",
    "    \n",
    "    # Distribution des transactions\n",
    "    fig = px.pie(df, names=\"is_fraud\", title=\"Distribution des transactions\")\n",
    "    fig.write_html(f\"{dossier_sortie}/distribution_transactions.html\")\n",
    "    \n",
    "    # Distribution des montants\n",
    "    fig = px.box(df, x=\"is_fraud\", y=\"montant\", title=\"Distribution des montants\")\n",
    "    fig.write_html(f\"{dossier_sortie}/distribution_montants.html\")\n",
    "    \n",
    "    # Patterns temporels\n",
    "    if not pd.api.types.is_datetime64_any_dtype(df[\"heure_transaction\"]):\n",
    "        df[\"heure_transaction\"] = pd.to_datetime(df[\"heure_transaction\"])\n",
    "    df[\"hour\"] = df[\"heure_transaction\"].dt.hour\n",
    "    fig = px.histogram(df, x=\"hour\", color=\"is_fraud\", title=\"Distribution horaire\")\n",
    "    fig.write_html(f\"{dossier_sortie}/patterns_temporels.html\")\n",
    "    \n",
    "    # Matrice de corrélation\n",
    "    numeric_cols = df.select_dtypes(include=[\"float64\", \"int64\"]).columns\n",
    "    corr_matrix = df[numeric_cols].corr()\n",
    "    fig = px.imshow(corr_matrix, title=\"Matrice de corrélation\")\n",
    "    fig.write_html(f\"{dossier_sortie}/matrice_correlation.html\")"
   ]
  },
  {
   "cell_type": "code",
   "execution_count": null,
   "id": "e79f142b",
   "metadata": {},
   "outputs": [],
   "source": [
    "if __name__ == \"__main__\":\n",
    "    # Exemple d'utilisation\n",
    "    chemin_donnees = \"data/transactions.csv\"\n",
    "    df = charger_donnees(chemin_donnees)\n",
    "    \n",
    "    if df is not None:\n",
    "        # Afficher les statistiques descriptives\n",
    "        afficher_statistiques_descriptives(df)\n",
    "        \n",
    "        # Créer les visualisations\n",
    "        visualiser_distribution_transactions(df)\n",
    "        visualiser_distribution_montants(df)\n",
    "        analyser_patterns_temporels(df)\n",
    "        creer_matrice_correlation(df)\n",
    "        \n",
    "        # Analyser les caractéristiques importantes\n",
    "        analyser_caracteristiques_importantes(df)\n",
    "        \n",
    "        # Sauvegarder les visualisations\n",
    "        sauvegarder_visualisations(df)"
   ]
  }
 ],
 "metadata": {
  "jupytext": {
   "cell_metadata_filter": "-all",
   "main_language": "python",
   "notebook_metadata_filter": "-all"
  },
  "kernelspec": {
   "display_name": "Python 3",
   "language": "python",
   "name": "python3"
  },
  "language_info": {
   "name": "python",
   "version": "3.11.9"
  }
 },
 "nbformat": 4,
 "nbformat_minor": 5
}
